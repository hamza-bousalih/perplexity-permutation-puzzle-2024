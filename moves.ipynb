{
 "cells": [
  {
   "cell_type": "code",
   "execution_count": 6,
   "metadata": {},
   "outputs": [
    {
     "data": {
      "text/plain": [
       "['Santa', 'claus', 'is', 'coming', 'to', 'town']"
      ]
     },
     "execution_count": 6,
     "metadata": {},
     "output_type": "execute_result"
    }
   ],
   "source": [
    "import random\n",
    "\n",
    "sample_sentence = [\"Santa\", \"claus\", \"is\", \"coming\", \"to\", \"town\"]\n",
    "sample_sentence"
   ]
  },
  {
   "cell_type": "code",
   "execution_count": 7,
   "metadata": {},
   "outputs": [
    {
     "name": "stdout",
     "output_type": "stream",
     "text": [
      "['Santa', 'claus', 'is', 'coming', 'to', 'town']\n"
     ]
    },
    {
     "data": {
      "text/plain": [
       "['Santa', 'town', 'is', 'coming', 'to', 'claus']"
      ]
     },
     "execution_count": 7,
     "metadata": {},
     "output_type": "execute_result"
    }
   ],
   "source": [
    "# 1. Word Swap Movement\n",
    "def swap_words(sentence):\n",
    "    idx1, idx2 = random.sample(range(len(sentence)), 2)\n",
    "    sentence[idx1], sentence[idx2] = sentence[idx2], sentence[idx1]\n",
    "    return sentence\n",
    "\n",
    "print(sample_sentence)\n",
    "swap_words(sample_sentence[:])"
   ]
  },
  {
   "cell_type": "code",
   "execution_count": 8,
   "metadata": {},
   "outputs": [
    {
     "name": "stdout",
     "output_type": "stream",
     "text": [
      "['Santa', 'claus', 'is', 'coming', 'to', 'town']\n"
     ]
    },
    {
     "data": {
      "text/plain": [
       "['Santa', 'town', 'is', 'claus', 'coming', 'to']"
      ]
     },
     "execution_count": 8,
     "metadata": {},
     "output_type": "execute_result"
    }
   ],
   "source": [
    "# 2. Mutation Movement\n",
    "def mutate_sentence(sentence):\n",
    "    # Randomly shuffle a portion of the sentence (from idx 1 to the end)\n",
    "    mutation = sentence[1:]\n",
    "    random.shuffle(mutation)\n",
    "    return [sentence[0]] + mutation\n",
    "\n",
    "print(sample_sentence)\n",
    "mutate_sentence(sample_sentence[:])"
   ]
  },
  {
   "cell_type": "code",
   "execution_count": 9,
   "metadata": {},
   "outputs": [
    {
     "name": "stdout",
     "output_type": "stream",
     "text": [
      "['Santa', 'claus', 'is', 'coming', 'to', 'town']\n"
     ]
    },
    {
     "data": {
      "text/plain": [
       "['Santa', 'claus', 'is', 'to', 'town', 'coming']"
      ]
     },
     "execution_count": 9,
     "metadata": {},
     "output_type": "execute_result"
    }
   ],
   "source": [
    "# 4. Insertion Movement\n",
    "def insert_word(sentence):\n",
    "    # Choose a random word from the sentence\n",
    "    word_to_insert = random.choice(sentence)\n",
    "    \n",
    "    # Remove that word from the sentence\n",
    "    sentence_without_word = [word for word in sentence if word != word_to_insert]\n",
    "    \n",
    "    # Insert the chosen word at a random position\n",
    "    insert_position = random.randint(0, len(sentence_without_word))\n",
    "    sentence_without_word.insert(insert_position, word_to_insert)\n",
    "    \n",
    "    return sentence_without_word\n",
    "\n",
    "# Test the Insertion Movement\n",
    "print(sample_sentence)\n",
    "insert_word(sample_sentence[:])"
   ]
  },
  {
   "cell_type": "code",
   "execution_count": null,
   "metadata": {},
   "outputs": [],
   "source": []
  }
 ],
 "metadata": {
  "kernelspec": {
   "display_name": "Python 3",
   "language": "python",
   "name": "python3"
  },
  "language_info": {
   "codemirror_mode": {
    "name": "ipython",
    "version": 3
   },
   "file_extension": ".py",
   "mimetype": "text/x-python",
   "name": "python",
   "nbconvert_exporter": "python",
   "pygments_lexer": "ipython3",
   "version": "3.11.4"
  }
 },
 "nbformat": 4,
 "nbformat_minor": 2
}
